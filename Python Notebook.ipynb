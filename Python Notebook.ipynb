{
 "cells": [
  {
   "cell_type": "markdown",
   "id": "62021184",
   "metadata": {},
   "source": [
    "There are 60 minutes in an hour, and there are 60 secounds in a minute."
   ]
  },
  {
   "cell_type": "code",
   "execution_count": 1,
   "id": "f9a45dad",
   "metadata": {},
   "outputs": [
    {
     "name": "stdout",
     "output_type": "stream",
     "text": [
      "3600\n"
     ]
    }
   ],
   "source": [
    "minutes = 60\n",
    "secounds = 60\n",
    "print(minutes * secounds)"
   ]
  },
  {
   "cell_type": "markdown",
   "id": "67a2de0b",
   "metadata": {},
   "source": [
    "This means there are 3600 secounds in an hour."
   ]
  },
  {
   "cell_type": "code",
   "execution_count": 2,
   "id": "32fe9094",
   "metadata": {},
   "outputs": [
    {
     "name": "stdout",
     "output_type": "stream",
     "text": [
      "3600\n"
     ]
    }
   ],
   "source": [
    "minutes = 60\n",
    "secounds = 60\n",
    "seconds_per_hour = minutes * secounds\n",
    "print(seconds_per_hour)"
   ]
  },
  {
   "cell_type": "markdown",
   "id": "1b2844ff",
   "metadata": {},
   "source": [
    "This is the same code but it is stored into a variable. 3.2"
   ]
  },
  {
   "cell_type": "code",
   "execution_count": 3,
   "id": "d5cb254d",
   "metadata": {},
   "outputs": [
    {
     "name": "stdout",
     "output_type": "stream",
     "text": [
      "86400\n"
     ]
    }
   ],
   "source": [
    "minutes = 60\n",
    "secounds = 60\n",
    "seconds_per_hour = minutes * secounds\n",
    "hours = 24\n",
    "seconds_per_hour = seconds_per_hour * hours\n",
    "print(seconds_per_hour)"
   ]
  },
  {
   "cell_type": "markdown",
   "id": "c2f86565",
   "metadata": {},
   "source": [
    "This is the same code but it is to find out how manny secounds are in a day, not an hour. 3.3"
   ]
  },
  {
   "cell_type": "code",
   "execution_count": 4,
   "id": "c85f19fa",
   "metadata": {},
   "outputs": [
    {
     "name": "stdout",
     "output_type": "stream",
     "text": [
      "86400\n"
     ]
    }
   ],
   "source": [
    "minutes = 60\n",
    "secounds = 60\n",
    "seconds_per_hour = minutes * secounds\n",
    "hours = 24\n",
    "seconds_per_day = seconds_per_hour * hours\n",
    "print(seconds_per_day)"
   ]
  },
  {
   "cell_type": "markdown",
   "id": "fb07496c",
   "metadata": {},
   "source": [
    "This is the same code but the seconds per day is stored into a variable. 3.4"
   ]
  },
  {
   "cell_type": "code",
   "execution_count": 5,
   "id": "ba8b5308",
   "metadata": {},
   "outputs": [
    {
     "name": "stdout",
     "output_type": "stream",
     "text": [
      "24.0\n"
     ]
    }
   ],
   "source": [
    "minutes = 60\n",
    "secounds = 60\n",
    "seconds_per_hour = minutes * secounds\n",
    "hours = 24\n",
    "seconds_per_day = seconds_per_hour * hours\n",
    "print(seconds_per_day / seconds_per_hour)"
   ]
  },
  {
   "cell_type": "markdown",
   "id": "4d9c065f",
   "metadata": {},
   "source": [
    "This is seconds per ay divided by seconds per hour, which would reult in hours in a day(24). 3.5"
   ]
  },
  {
   "cell_type": "code",
   "execution_count": 6,
   "id": "3b69060d",
   "metadata": {},
   "outputs": [
    {
     "name": "stdout",
     "output_type": "stream",
     "text": [
      "24\n"
     ]
    }
   ],
   "source": [
    "minutes = 60\n",
    "secounds = 60\n",
    "seconds_per_hour = minutes * secounds\n",
    "hours = 24\n",
    "seconds_per_day = seconds_per_hour * hours\n",
    "print(seconds_per_day // seconds_per_hour)"
   ]
  },
  {
   "cell_type": "markdown",
   "id": "b6157d4a",
   "metadata": {},
   "source": [
    "This did not change the number at all other then removing the decimal from the end of the number. 3.6"
   ]
  },
  {
   "cell_type": "code",
   "execution_count": null,
   "id": "59a44579",
   "metadata": {},
   "outputs": [],
   "source": []
  }
 ],
 "metadata": {
  "kernelspec": {
   "display_name": "Python 3 (ipykernel)",
   "language": "python",
   "name": "python3"
  },
  "language_info": {
   "codemirror_mode": {
    "name": "ipython",
    "version": 3
   },
   "file_extension": ".py",
   "mimetype": "text/x-python",
   "name": "python",
   "nbconvert_exporter": "python",
   "pygments_lexer": "ipython3",
   "version": "3.9.12"
  }
 },
 "nbformat": 4,
 "nbformat_minor": 5
}
