{
 "cells": [
  {
   "cell_type": "code",
   "execution_count": 2,
   "id": "55f5f9f2",
   "metadata": {},
   "outputs": [
    {
     "name": "stdout",
     "output_type": "stream",
     "text": [
      "Too low\n"
     ]
    }
   ],
   "source": [
    "secret = 5\n",
    "guess = 3\n",
    "if(secret > guess):\n",
    "    print(\"Too low\")\n",
    "elif(secret < guess):\n",
    "    print(\"Too high\")\n",
    "else:\n",
    "    print(\"Just right\")"
   ]
  },
  {
   "cell_type": "markdown",
   "id": "93a8a7d7",
   "metadata": {},
   "source": [
    "4.1: This code is a simplified guessing game with no user input."
   ]
  },
  {
   "cell_type": "code",
   "execution_count": 6,
   "id": "e0b54ac4",
   "metadata": {},
   "outputs": [
    {
     "name": "stdout",
     "output_type": "stream",
     "text": [
      "Choose one cherry, pea, watermelon, pumpkin:pea\n",
      "small: True  Green: True\n"
     ]
    }
   ],
   "source": [
    "small = False\n",
    "green = False\n",
    "choice = input(\"Choose one cherry, pea, watermelon, pumpkin:\")\n",
    "if(choice == \"cherry\"):\n",
    "    small = True\n",
    "    print(\"small: \" + str(small) + \"  Green: \" + str(green))\n",
    "    small = False\n",
    "    \n",
    "elif(choice == \"pea\"):\n",
    "    small = True\n",
    "    green = True\n",
    "    print(\"small: \" + str(small) + \"  Green: \" + str(green))\n",
    "    small = False\n",
    "    green = False\n",
    "    \n",
    "elif(choice == \"watermelon\"):\n",
    "    green = True\n",
    "    print(\"small: \" + str(small) + \"  Green: \" + str(green))\n",
    "    green = False\n",
    "    \n",
    "else:\n",
    "    print(\"small: \" + str(small) + \"  Green: \" + str(green))"
   ]
  },
  {
   "cell_type": "markdown",
   "id": "9a345a46",
   "metadata": {},
   "source": [
    "4.2: This code lets you choose one of the folling things listed and says if its green or small."
   ]
  },
  {
   "cell_type": "code",
   "execution_count": 10,
   "id": "d6e6d68e",
   "metadata": {},
   "outputs": [
    {
     "name": "stdout",
     "output_type": "stream",
     "text": [
      "3\n",
      "2\n",
      "1\n",
      "0\n"
     ]
    }
   ],
   "source": [
    "myList = [3, 2, 1, 0]\n",
    "for num in myList:\n",
    "    print(num)"
   ]
  },
  {
   "cell_type": "markdown",
   "id": "6f0f6571",
   "metadata": {},
   "source": [
    "6.1: This code uses a for loop to  print all numbers in the list."
   ]
  },
  {
   "cell_type": "code",
   "execution_count": 20,
   "id": "7548e3dc",
   "metadata": {},
   "outputs": [
    {
     "name": "stdout",
     "output_type": "stream",
     "text": [
      "1\n",
      "Too low\n",
      "2\n",
      "Too low\n",
      "3\n",
      "Too low\n",
      "4\n",
      "Too low\n",
      "5\n",
      "Too low\n",
      "6\n",
      "Too low\n",
      "7\n",
      "Just right\n"
     ]
    }
   ],
   "source": [
    "guess_me = 7\n",
    "number = 1\n",
    "while(number < guess_me + 1):\n",
    "    print(number)\n",
    "    \n",
    "    if(number < guess_me):\n",
    "        print(\"Too low\")\n",
    "        \n",
    "    elif(number > guess_me):\n",
    "        print(\"opps\")\n",
    "        break\n",
    "        \n",
    "    else:\n",
    "        print(\"Just right\")\n",
    "    number += 1"
   ]
  },
  {
   "cell_type": "markdown",
   "id": "0b82c7ef",
   "metadata": {},
   "source": [
    "6.2: This code is 4.1 but it uses a while loop to count up from nummber until, it hits the number to guess."
   ]
  },
  {
   "cell_type": "code",
   "execution_count": 23,
   "id": "7ab5e9cd",
   "metadata": {},
   "outputs": [
    {
     "name": "stdout",
     "output_type": "stream",
     "text": [
      "1\n",
      "Too low\n",
      "2\n",
      "Too low\n",
      "3\n",
      "Too low\n",
      "4\n",
      "Too low\n",
      "5\n",
      "Too low\n",
      "6\n",
      "Too low\n",
      "7\n",
      "Just right\n"
     ]
    }
   ],
   "source": [
    "guess_me = 7\n",
    "number = 1\n",
    "for i in range(10):\n",
    "    print(number)\n",
    "    \n",
    "    if(number < guess_me):\n",
    "        print(\"Too low\")\n",
    "        \n",
    "    elif(number > guess_me):\n",
    "        print(\"opps\")\n",
    "        break\n",
    "        \n",
    "    else:\n",
    "        print(\"Just right\")\n",
    "        break\n",
    "    number += 1"
   ]
  },
  {
   "cell_type": "markdown",
   "id": "760a9d4b",
   "metadata": {},
   "source": [
    "6.3: This is the same code as 6.2 but insted of using a while loop, it uses a for loop and breaks out of the code when you hit the number you are looking for."
   ]
  },
  {
   "cell_type": "code",
   "execution_count": null,
   "id": "175cf864",
   "metadata": {},
   "outputs": [],
   "source": []
  }
 ],
 "metadata": {
  "kernelspec": {
   "display_name": "Python 3 (ipykernel)",
   "language": "python",
   "name": "python3"
  },
  "language_info": {
   "codemirror_mode": {
    "name": "ipython",
    "version": 3
   },
   "file_extension": ".py",
   "mimetype": "text/x-python",
   "name": "python",
   "nbconvert_exporter": "python",
   "pygments_lexer": "ipython3",
   "version": "3.9.12"
  }
 },
 "nbformat": 4,
 "nbformat_minor": 5
}
