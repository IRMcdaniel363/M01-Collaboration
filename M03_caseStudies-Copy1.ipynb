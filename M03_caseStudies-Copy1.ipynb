{
 "cells": [
  {
   "cell_type": "code",
   "execution_count": 8,
   "id": "83d0d4dd",
   "metadata": {},
   "outputs": [
    {
     "name": "stdout",
     "output_type": "stream",
     "text": [
      "What type of Vehicle is it? car\n",
      "year: 2002\n",
      "make: john\n",
      "model: deer\n",
      "door(2 or 4): 2\n",
      "roof(sun or solid): sun\n",
      "\n",
      "Vehicle type: car\n",
      "Year: 2002\n",
      "Make: john\n",
      "Model: deer\n",
      "Number of doors: 2\n",
      "Type of roof: sun\n"
     ]
    }
   ],
   "source": [
    "class Vehicle():\n",
    "    def _init_(self, carType):\n",
    "        self.carType = carType\n",
    "        \n",
    "class Automobile(Vehicle):\n",
    "    def _init_(self, year, make, model, door, roof):\n",
    "        self.year = year\n",
    "        self.make = make\n",
    "        self.model = model\n",
    "        self.door = door\n",
    "        self.roof = roof\n",
    "        \n",
    "    carType = input(\"What type of Vehicle is it? \")\n",
    "    year = input(\"year: \")\n",
    "    make = input(\"make: \")\n",
    "    model = input(\"model: \")\n",
    "    door = input(\"door(2 or 4): \")\n",
    "    roof = input(\"roof(sun or solid): \")\n",
    "    print(\"\")\n",
    "    print(\"Vehicle type: \" + carType)\n",
    "    print(\"Year: \" + year)\n",
    "    print(\"Make: \" + make)\n",
    "    print(\"Model: \" + model)\n",
    "    print(\"Number of doors: \" + door)\n",
    "    print(\"Type of roof: \" + roof)\n",
    "    \n",
    "    "
   ]
  },
  {
   "cell_type": "code",
   "execution_count": null,
   "id": "ca6c4afe",
   "metadata": {},
   "outputs": [],
   "source": []
  }
 ],
 "metadata": {
  "kernelspec": {
   "display_name": "Python 3 (ipykernel)",
   "language": "python",
   "name": "python3"
  },
  "language_info": {
   "codemirror_mode": {
    "name": "ipython",
    "version": 3
   },
   "file_extension": ".py",
   "mimetype": "text/x-python",
   "name": "python",
   "nbconvert_exporter": "python",
   "pygments_lexer": "ipython3",
   "version": "3.9.12"
  }
 },
 "nbformat": 4,
 "nbformat_minor": 5
}
