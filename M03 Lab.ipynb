{
 "cells": [
  {
   "cell_type": "code",
   "execution_count": 9,
   "id": "2e0f443d",
   "metadata": {},
   "outputs": [
    {
     "name": "stdout",
     "output_type": "stream",
     "text": [
      "['mozzarella', 'cinderlla', 'samonella']\n"
     ]
    }
   ],
   "source": [
    "things = [\"mozzarella\", \"cinderlla\", \"samonella\"]\n",
    "print(things)"
   ]
  },
  {
   "cell_type": "markdown",
   "id": "3050470b",
   "metadata": {},
   "source": [
    "7.4: I made a list with 3 string elements called things."
   ]
  },
  {
   "cell_type": "code",
   "execution_count": 15,
   "id": "d39c33ec",
   "metadata": {},
   "outputs": [
    {
     "name": "stdout",
     "output_type": "stream",
     "text": [
      "['mozzarella', 'Cinderlla', 'samonella']\n"
     ]
    }
   ],
   "source": [
    "things = [\"mozzarella\", \"cinderlla\", \"samonella\"]\n",
    "things[1] = things[1].capitalize()\n",
    "print(things)"
   ]
  },
  {
   "cell_type": "markdown",
   "id": "0ccacc17",
   "metadata": {},
   "source": [
    "7.5: Make the element that reffers to a person capitalized."
   ]
  },
  {
   "cell_type": "code",
   "execution_count": 16,
   "id": "9ce53e9b",
   "metadata": {},
   "outputs": [
    {
     "name": "stdout",
     "output_type": "stream",
     "text": [
      "['MOZZARELLA', 'Cinderlla', 'samonella']\n"
     ]
    }
   ],
   "source": [
    "things = [\"mozzarella\", \"cinderlla\", \"samonella\"]\n",
    "things[1] = things[1].capitalize()\n",
    "things[0] = things[0].upper()\n",
    "print(things)"
   ]
  },
  {
   "cell_type": "markdown",
   "id": "b9e9da9d",
   "metadata": {},
   "source": [
    "7.6: the element that refers to cheese is fully capitized"
   ]
  },
  {
   "cell_type": "code",
   "execution_count": 18,
   "id": "f1ff3072",
   "metadata": {},
   "outputs": [
    {
     "name": "stdout",
     "output_type": "stream",
     "text": [
      "['MOZZARELLA', 'Cinderlla']\n"
     ]
    }
   ],
   "source": [
    "things = [\"mozzarella\", \"cinderlla\", \"samonella\"]\n",
    "things[1] = things[1].capitalize()\n",
    "things[0] = things[0].upper()\n",
    "things.remove(\"samonella\")\n",
    "print(things)"
   ]
  },
  {
   "cell_type": "markdown",
   "id": "012e0c19",
   "metadata": {},
   "source": [
    "7.7: remove the sickness"
   ]
  },
  {
   "cell_type": "code",
   "execution_count": 19,
   "id": "2b543642",
   "metadata": {},
   "outputs": [
    {
     "name": "stdout",
     "output_type": "stream",
     "text": [
      "['Harry', 'ron', 'Hermione']\n"
     ]
    }
   ],
   "source": [
    "def good():\n",
    "    newList = [\"Harry\", \"ron\", \"Hermione\"]\n",
    "    return newList\n",
    "print(good())"
   ]
  },
  {
   "cell_type": "markdown",
   "id": "505ec520",
   "metadata": {},
   "source": [
    "9.1: Make a funcution that returns the list provided."
   ]
  },
  {
   "cell_type": "code",
   "execution_count": 35,
   "id": "e87e4d3e",
   "metadata": {},
   "outputs": [
    {
     "name": "stdout",
     "output_type": "stream",
     "text": [
      "5\n"
     ]
    }
   ],
   "source": [
    "def get_odds():\n",
    "    nums = []\n",
    "    for number in range(10):\n",
    "        if(number % 2 == 1):\n",
    "            nums.extend([number])\n",
    "    return nums[2]\n",
    "print(get_odds())"
   ]
  },
  {
   "cell_type": "markdown",
   "id": "dcadfda3",
   "metadata": {},
   "source": [
    "9.2: make a number generater that collects the odd number and prints out the 3rd element."
   ]
  },
  {
   "cell_type": "code",
   "execution_count": null,
   "id": "4c358291",
   "metadata": {},
   "outputs": [],
   "source": []
  }
 ],
 "metadata": {
  "kernelspec": {
   "display_name": "Python 3 (ipykernel)",
   "language": "python",
   "name": "python3"
  },
  "language_info": {
   "codemirror_mode": {
    "name": "ipython",
    "version": 3
   },
   "file_extension": ".py",
   "mimetype": "text/x-python",
   "name": "python",
   "nbconvert_exporter": "python",
   "pygments_lexer": "ipython3",
   "version": "3.9.12"
  }
 },
 "nbformat": 4,
 "nbformat_minor": 5
}
